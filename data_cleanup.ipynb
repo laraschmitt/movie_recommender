{
 "cells": [
  {
   "cell_type": "code",
   "execution_count": 5,
   "metadata": {},
   "outputs": [],
   "source": [
    "import pandas as pd\n",
    "df_movie_names = pd.read_csv('./data/ml-latest/movies.csv')\n",
    "df_ratings = pd.read_csv('./data/ml-latest/ratings.csv')\n",
    "\n",
    "duplicateRowsDF = df_movie_names[df_movie_names.duplicated(subset=['title'])]\n",
    "dup_titles = duplicateRowsDF['title'].tolist()\n",
    "print(dup_titles)\n",
    "\n",
    "dup = df_movie_names[df_movie_names['title'].isin(dup_titles)]\n",
    "sort_dup = dup.sort_values(by='title', ascending=True)\n",
    "print(sort_dup.head(20))\n",
    "\n",
    "dup_id_list = sort_dup['movieId'].to_list()\n",
    "\n",
    "# put the valid ids and the second occuring ids in list and zip them into a dictionart\n",
    "every_valid_id = dup_id_list[::2]\n",
    "every_sec_id = dup_id_list[1::2]\n",
    "\n",
    "id_dictionary = dict(zip(every_sec_id, every_valid_id))\n",
    "\n",
    "# Create new column 'movieId_unique' for dataframe\n",
    "# 1. copy the existing ids\n",
    "df_ratings['movieId_unique'] = df_ratings['movieId'] \n",
    "df_movie_names['movieId_unique'] = df_movie_names['movieId']\n",
    "\n",
    "# Remap the values of the dataframe \n",
    "df_ratings = df_ratings.replace({\"movieId_unique\": id_dictionary}) \n",
    "df_movie_names = df_movie_names.replace({\"movieId_unique\": id_dictionary}) \n",
    "\n",
    "# left merge to keep only movies with existing ratings\n",
    "df = pd.merge(df_ratings, df_movie_names, on='movieId_unique', how='left')\n",
    "# check for number of unique ids\n",
    "df['movieId_unique'].nunique()\n",
    "\n",
    "# export cleaned up combined dateframe\n",
    "df.to_csv('./data/ml-latest/large_ds_ratings_names_uniqueids.csv')"
   ]
  },
  {
   "cell_type": "code",
   "execution_count": 15,
   "metadata": {},
   "outputs": [],
   "source": []
  },
  {
   "cell_type": "code",
   "execution_count": 21,
   "metadata": {},
   "outputs": [],
   "source": []
  },
  {
   "cell_type": "code",
   "execution_count": 26,
   "metadata": {},
   "outputs": [
    {
     "data": {
      "text/html": [
       "<div>\n",
       "<style scoped>\n",
       "    .dataframe tbody tr th:only-of-type {\n",
       "        vertical-align: middle;\n",
       "    }\n",
       "\n",
       "    .dataframe tbody tr th {\n",
       "        vertical-align: top;\n",
       "    }\n",
       "\n",
       "    .dataframe thead th {\n",
       "        text-align: right;\n",
       "    }\n",
       "</style>\n",
       "<table border=\"1\" class=\"dataframe\">\n",
       "  <thead>\n",
       "    <tr style=\"text-align: right;\">\n",
       "      <th></th>\n",
       "      <th>userId</th>\n",
       "      <th>movieId</th>\n",
       "      <th>rating</th>\n",
       "      <th>timestamp</th>\n",
       "      <th>movieId_unique</th>\n",
       "    </tr>\n",
       "  </thead>\n",
       "  <tbody>\n",
       "    <tr>\n",
       "      <th>0</th>\n",
       "      <td>1</td>\n",
       "      <td>307</td>\n",
       "      <td>3.5</td>\n",
       "      <td>1256677221</td>\n",
       "      <td>307</td>\n",
       "    </tr>\n",
       "    <tr>\n",
       "      <th>1</th>\n",
       "      <td>1</td>\n",
       "      <td>481</td>\n",
       "      <td>3.5</td>\n",
       "      <td>1256677456</td>\n",
       "      <td>481</td>\n",
       "    </tr>\n",
       "    <tr>\n",
       "      <th>2</th>\n",
       "      <td>1</td>\n",
       "      <td>1091</td>\n",
       "      <td>1.5</td>\n",
       "      <td>1256677471</td>\n",
       "      <td>1091</td>\n",
       "    </tr>\n",
       "    <tr>\n",
       "      <th>3</th>\n",
       "      <td>1</td>\n",
       "      <td>1257</td>\n",
       "      <td>4.5</td>\n",
       "      <td>1256677460</td>\n",
       "      <td>1257</td>\n",
       "    </tr>\n",
       "    <tr>\n",
       "      <th>4</th>\n",
       "      <td>1</td>\n",
       "      <td>1449</td>\n",
       "      <td>4.5</td>\n",
       "      <td>1256677264</td>\n",
       "      <td>1449</td>\n",
       "    </tr>\n",
       "  </tbody>\n",
       "</table>\n",
       "</div>"
      ],
      "text/plain": [
       "   userId  movieId  rating   timestamp  movieId_unique\n",
       "0       1      307     3.5  1256677221             307\n",
       "1       1      481     3.5  1256677456             481\n",
       "2       1     1091     1.5  1256677471            1091\n",
       "3       1     1257     4.5  1256677460            1257\n",
       "4       1     1449     4.5  1256677264            1449"
      ]
     },
     "execution_count": 26,
     "metadata": {},
     "output_type": "execute_result"
    }
   ],
   "source": []
  },
  {
   "cell_type": "code",
   "execution_count": 28,
   "metadata": {},
   "outputs": [
    {
     "data": {
      "text/plain": [
       "53817"
      ]
     },
     "execution_count": 28,
     "metadata": {},
     "output_type": "execute_result"
    }
   ],
   "source": []
  },
  {
   "cell_type": "code",
   "execution_count": 29,
   "metadata": {},
   "outputs": [],
   "source": []
  },
  {
   "cell_type": "code",
   "execution_count": null,
   "metadata": {},
   "outputs": [],
   "source": []
  }
 ],
 "metadata": {
  "kernelspec": {
   "display_name": "Python 3",
   "language": "python",
   "name": "python3"
  },
  "language_info": {
   "codemirror_mode": {
    "name": "ipython",
    "version": 3
   },
   "file_extension": ".py",
   "mimetype": "text/x-python",
   "name": "python",
   "nbconvert_exporter": "python",
   "pygments_lexer": "ipython3",
   "version": "3.7.6"
  }
 },
 "nbformat": 4,
 "nbformat_minor": 4
}
