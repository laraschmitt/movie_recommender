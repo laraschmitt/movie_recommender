{
 "cells": [
  {
   "cell_type": "code",
   "execution_count": 2,
   "metadata": {},
   "outputs": [],
   "source": [
    "import pandas as pd\n",
    "from sklearn.decomposition import NMF\n",
    "import numpy as np\n",
    "import pickle"
   ]
  },
  {
   "cell_type": "code",
   "execution_count": 3,
   "metadata": {},
   "outputs": [
    {
     "data": {
      "text/html": [
       "<div>\n",
       "<style scoped>\n",
       "    .dataframe tbody tr th:only-of-type {\n",
       "        vertical-align: middle;\n",
       "    }\n",
       "\n",
       "    .dataframe tbody tr th {\n",
       "        vertical-align: top;\n",
       "    }\n",
       "\n",
       "    .dataframe thead th {\n",
       "        text-align: right;\n",
       "    }\n",
       "</style>\n",
       "<table border=\"1\" class=\"dataframe\">\n",
       "  <thead>\n",
       "    <tr style=\"text-align: right;\">\n",
       "      <th></th>\n",
       "      <th>Unnamed: 0</th>\n",
       "      <th>userId</th>\n",
       "      <th>movieId_x</th>\n",
       "      <th>rating</th>\n",
       "      <th>timestamp</th>\n",
       "      <th>movieId_unique</th>\n",
       "      <th>movieId_y</th>\n",
       "      <th>title</th>\n",
       "      <th>genres</th>\n",
       "    </tr>\n",
       "  </thead>\n",
       "  <tbody>\n",
       "    <tr>\n",
       "      <th>0</th>\n",
       "      <td>0</td>\n",
       "      <td>1</td>\n",
       "      <td>1</td>\n",
       "      <td>4.0</td>\n",
       "      <td>964982703</td>\n",
       "      <td>1</td>\n",
       "      <td>1</td>\n",
       "      <td>Toy Story (1995)</td>\n",
       "      <td>Adventure|Animation|Children|Comedy|Fantasy</td>\n",
       "    </tr>\n",
       "    <tr>\n",
       "      <th>1</th>\n",
       "      <td>1</td>\n",
       "      <td>1</td>\n",
       "      <td>3</td>\n",
       "      <td>4.0</td>\n",
       "      <td>964981247</td>\n",
       "      <td>3</td>\n",
       "      <td>3</td>\n",
       "      <td>Grumpier Old Men (1995)</td>\n",
       "      <td>Comedy|Romance</td>\n",
       "    </tr>\n",
       "    <tr>\n",
       "      <th>2</th>\n",
       "      <td>2</td>\n",
       "      <td>1</td>\n",
       "      <td>6</td>\n",
       "      <td>4.0</td>\n",
       "      <td>964982224</td>\n",
       "      <td>6</td>\n",
       "      <td>6</td>\n",
       "      <td>Heat (1995)</td>\n",
       "      <td>Action|Crime|Thriller</td>\n",
       "    </tr>\n",
       "    <tr>\n",
       "      <th>3</th>\n",
       "      <td>3</td>\n",
       "      <td>1</td>\n",
       "      <td>47</td>\n",
       "      <td>5.0</td>\n",
       "      <td>964983815</td>\n",
       "      <td>47</td>\n",
       "      <td>47</td>\n",
       "      <td>Seven (a.k.a. Se7en) (1995)</td>\n",
       "      <td>Mystery|Thriller</td>\n",
       "    </tr>\n",
       "    <tr>\n",
       "      <th>4</th>\n",
       "      <td>4</td>\n",
       "      <td>1</td>\n",
       "      <td>50</td>\n",
       "      <td>5.0</td>\n",
       "      <td>964982931</td>\n",
       "      <td>50</td>\n",
       "      <td>50</td>\n",
       "      <td>Usual Suspects, The (1995)</td>\n",
       "      <td>Crime|Mystery|Thriller</td>\n",
       "    </tr>\n",
       "  </tbody>\n",
       "</table>\n",
       "</div>"
      ],
      "text/plain": [
       "   Unnamed: 0  userId  movieId_x  rating  timestamp  movieId_unique  \\\n",
       "0           0       1          1     4.0  964982703               1   \n",
       "1           1       1          3     4.0  964981247               3   \n",
       "2           2       1          6     4.0  964982224               6   \n",
       "3           3       1         47     5.0  964983815              47   \n",
       "4           4       1         50     5.0  964982931              50   \n",
       "\n",
       "   movieId_y                        title  \\\n",
       "0          1             Toy Story (1995)   \n",
       "1          3      Grumpier Old Men (1995)   \n",
       "2          6                  Heat (1995)   \n",
       "3         47  Seven (a.k.a. Se7en) (1995)   \n",
       "4         50   Usual Suspects, The (1995)   \n",
       "\n",
       "                                        genres  \n",
       "0  Adventure|Animation|Children|Comedy|Fantasy  \n",
       "1                               Comedy|Romance  \n",
       "2                        Action|Crime|Thriller  \n",
       "3                             Mystery|Thriller  \n",
       "4                       Crime|Mystery|Thriller  "
      ]
     },
     "execution_count": 3,
     "metadata": {},
     "output_type": "execute_result"
    }
   ],
   "source": [
    "# import clean dataset\n",
    "df = pd.read_csv('./data/ml-latest-small/dev_ds_ratings_names_uniqueids.csv')\n",
    "df.head()"
   ]
  },
  {
   "cell_type": "code",
   "execution_count": 4,
   "metadata": {},
   "outputs": [],
   "source": [
    "# import model\n",
    "# load the model from disk\n",
    "m = pickle.load(open('NMF_model.sav', 'rb'))"
   ]
  },
  {
   "cell_type": "code",
   "execution_count": 5,
   "metadata": {},
   "outputs": [
    {
     "data": {
      "text/plain": [
       "9719"
      ]
     },
     "execution_count": 5,
     "metadata": {},
     "output_type": "execute_result"
    }
   ],
   "source": [
    "# To map movie names to movie ID’s, construct a {name: id} dictionary\n",
    "title_dict = dict(zip(df.title, df.movieId_unique))\n",
    "len(title_dict)"
   ]
  },
  {
   "cell_type": "markdown",
   "metadata": {},
   "source": [
    "#### Create user input"
   ]
  },
  {
   "cell_type": "code",
   "execution_count": 7,
   "metadata": {},
   "outputs": [],
   "source": [
    "title_list = df['title'].to_list()"
   ]
  },
  {
   "cell_type": "code",
   "execution_count": 10,
   "metadata": {},
   "outputs": [],
   "source": [
    "# vals = []\n",
    "# user_mov_1 = input('Enter a movie that you liked:')\n",
    "# user_mov_2 = input('Enter a 2nd movie that you liked:')\n",
    "# user_mov_3 = input('Enter a 3rd movie that you liked:')\n",
    "\n",
    "# vals = [user_mov_1, user_mov_2, user_mov_3]\n",
    "\n",
    "\n",
    "userinput_titles = ['Titanic', 'Toy Story', 'Star Wars']\n",
    "\n",
    "from fuzzywuzzy import process\n",
    "\n",
    "choices = []\n",
    "for name in userinput:\n",
    "    title_list = df['title'].to_list()\n",
    "    selection = process.extractOne(name, title_list)\n",
    "    choices.append(selection[0])\n",
    "\n",
    "### use fuzzywuzzy to allow not exact movie title input from user\n",
    "#from fuzzywuzzy import process\n",
    "#choices = df['title'].to_list()\n",
    "#process.extractOne(\"Toy Story\", choices)"
   ]
  },
  {
   "cell_type": "code",
   "execution_count": 11,
   "metadata": {},
   "outputs": [
    {
     "data": {
      "text/plain": [
       "['Titanic (1997)',\n",
       " 'Toy Story (1995)',\n",
       " 'Star Wars: Episode IV - A New Hope (1977)']"
      ]
     },
     "execution_count": 11,
     "metadata": {},
     "output_type": "execute_result"
    }
   ],
   "source": [
    "choices"
   ]
  },
  {
   "cell_type": "code",
   "execution_count": 13,
   "metadata": {},
   "outputs": [
    {
     "data": {
      "text/plain": [
       "([1721, 1, 260],\n",
       " ['Titanic (1997)',\n",
       "  'Toy Story (1995)',\n",
       "  'Star Wars: Episode IV - A New Hope (1977)'])"
      ]
     },
     "execution_count": 13,
     "metadata": {},
     "output_type": "execute_result"
    }
   ],
   "source": [
    "keys = [title_dict.get(key) for key in choices]\n",
    "keys, choices"
   ]
  },
  {
   "cell_type": "code",
   "execution_count": 35,
   "metadata": {},
   "outputs": [],
   "source": [
    "userinput_ratings = [5, 3, 2]"
   ]
  },
  {
   "cell_type": "code",
   "execution_count": 36,
   "metadata": {},
   "outputs": [
    {
     "data": {
      "text/plain": [
       "{1721: 5, 1: 3, 260: 2}"
      ]
     },
     "execution_count": 36,
     "metadata": {},
     "output_type": "execute_result"
    }
   ],
   "source": [
    "# create ratings_list\n",
    "#ratings_5 = [5 for y in keys]\n",
    "# create small dict\n",
    "d_fill = dict(zip(keys, userinput_ratings))\n",
    "d_fill"
   ]
  },
  {
   "cell_type": "code",
   "execution_count": 15,
   "metadata": {},
   "outputs": [],
   "source": [
    "### transform user input to user movie vector (for model input)"
   ]
  },
  {
   "cell_type": "code",
   "execution_count": 7,
   "metadata": {},
   "outputs": [
    {
     "ename": "NameError",
     "evalue": "name 'df' is not defined",
     "output_type": "error",
     "traceback": [
      "\u001b[0;31m---------------------------------------------------------------------------\u001b[0m",
      "\u001b[0;31mNameError\u001b[0m                                 Traceback (most recent call last)",
      "\u001b[0;32m<ipython-input-7-bcb148467aa7>\u001b[0m in \u001b[0;36m<module>\u001b[0;34m\u001b[0m\n\u001b[1;32m      1\u001b[0m \u001b[0;31m# create vector for user with zeros (missing values = 0 in this case)\u001b[0m\u001b[0;34m\u001b[0m\u001b[0;34m\u001b[0m\u001b[0;34m\u001b[0m\u001b[0m\n\u001b[0;32m----> 2\u001b[0;31m \u001b[0mdict_new_user\u001b[0m \u001b[0;34m=\u001b[0m \u001b[0;34m(\u001b[0m\u001b[0mdict\u001b[0m\u001b[0;34m.\u001b[0m\u001b[0mfromkeys\u001b[0m\u001b[0;34m(\u001b[0m\u001b[0mdf\u001b[0m\u001b[0;34m.\u001b[0m\u001b[0mmovieId_unique\u001b[0m\u001b[0;34m,\u001b[0m\u001b[0;36m0\u001b[0m\u001b[0;34m)\u001b[0m\u001b[0;34m)\u001b[0m\u001b[0;34m\u001b[0m\u001b[0;34m\u001b[0m\u001b[0m\n\u001b[0m",
      "\u001b[0;31mNameError\u001b[0m: name 'df' is not defined"
     ]
    }
   ],
   "source": [
    "# create vector for user with zeros (missing values = 0 in this case)\n",
    "dict_new_user = (dict.fromkeys(df.movieId_unique,0))"
   ]
  },
  {
   "cell_type": "code",
   "execution_count": 49,
   "metadata": {},
   "outputs": [
    {
     "data": {
      "text/plain": [
       "{1: 3, 3: 0, 6: 0, 47: 0, 50: 0, 70: 0}"
      ]
     },
     "execution_count": 49,
     "metadata": {},
     "output_type": "execute_result"
    }
   ],
   "source": [
    "# update the values with the rated movie ids \n",
    "dict_new_user.update(d_fill)\n",
    "\n",
    "# look at the first entries\n",
    "first5pairs = {k: dict_new_user[k] for k in list(dict_new_user)[:6]}\n",
    "first5pairs"
   ]
  },
  {
   "cell_type": "code",
   "execution_count": 43,
   "metadata": {},
   "outputs": [
    {
     "data": {
      "text/plain": [
       "array([[5, 0, 0, ..., 0, 0, 0]])"
      ]
     },
     "execution_count": 43,
     "metadata": {},
     "output_type": "execute_result"
    }
   ],
   "source": [
    "# transform into an array/ vector of the values\n",
    "user_arr = (np.array(list(dict_new_user.values()))).reshape(1,9719)\n",
    "# reshape\n",
    "#user_arr = user_arr.reshape(1,9719)\n",
    "user_arr"
   ]
  },
  {
   "cell_type": "markdown",
   "metadata": {},
   "source": [
    "### Making a prediction based on new user input"
   ]
  },
  {
   "cell_type": "markdown",
   "metadata": {},
   "source": [
    "Use the NMF model to produce recommendations for one user.\n",
    "\n",
    "- To map movie names to movie ID’s, construct a {name: id} dictionary\n",
    "- To deal with small differences in the names, the fuzzywuzzy package is quite useful\n",
    "- Create an vector of three movies the user likes. Set these to 5 and all others to zero."
   ]
  },
  {
   "cell_type": "markdown",
   "metadata": {},
   "source": [
    "#### Prediction"
   ]
  },
  {
   "cell_type": "code",
   "execution_count": 22,
   "metadata": {},
   "outputs": [],
   "source": [
    "Q = m.components_"
   ]
  },
  {
   "cell_type": "code",
   "execution_count": 23,
   "metadata": {},
   "outputs": [
    {
     "data": {
      "text/plain": [
       "array([[0.        , 0.        , 0.        , 0.        , 0.00067616,\n",
       "        0.        , 0.        , 0.        , 0.        , 0.        ,\n",
       "        0.        , 0.        , 0.        , 0.00523679, 0.01188896,\n",
       "        0.        , 0.        , 0.        , 0.        , 0.        ]])"
      ]
     },
     "execution_count": 23,
     "metadata": {},
     "output_type": "execute_result"
    }
   ],
   "source": [
    "#Prediction step 1 - generate extra a user_P\n",
    "user_P = m.transform(user_arr)\n",
    "user_P"
   ]
  },
  {
   "cell_type": "code",
   "execution_count": 37,
   "metadata": {},
   "outputs": [
    {
     "data": {
      "text/plain": [
       "array([0.02116956, 0.00881316, 0.00496184, ..., 0.00125942, 0.00125942,\n",
       "       0.00118928])"
      ]
     },
     "execution_count": 37,
     "metadata": {},
     "output_type": "execute_result"
    }
   ],
   "source": [
    "#new user R - reconstruct R but for this new user only\n",
    "# (column of first matrix = row of second matrix)\n",
    "# get rid of one dimension of the array\n",
    "user_R = (np.dot(user_P,Q))[0]\n",
    "user_R"
   ]
  },
  {
   "cell_type": "code",
   "execution_count": 27,
   "metadata": {},
   "outputs": [
    {
     "data": {
      "text/plain": [
       "array(['Toy Story (1995)', 'Grumpier Old Men (1995)', 'Heat (1995)', ...,\n",
       "       'Get Out (2017)', 'Logan (2017)', 'The Fate of the Furious (2017)'],\n",
       "      dtype=object)"
      ]
     },
     "execution_count": 27,
     "metadata": {},
     "output_type": "execute_result"
    }
   ],
   "source": [
    "# get the corresponding array of movie titles\n",
    "df.title.values"
   ]
  },
  {
   "cell_type": "code",
   "execution_count": 41,
   "metadata": {},
   "outputs": [],
   "source": [
    "# zip into tuples of rating and film title \n",
    "# remove the first three ones (the films that the user has already seen):\n",
    "rec = (list(zip(user_R,df.title.values)))[3:]"
   ]
  },
  {
   "cell_type": "code",
   "execution_count": 33,
   "metadata": {},
   "outputs": [
    {
     "data": {
      "text/plain": [
       "[(0.060925453237519196, 'Exit to Eden (1994)'),\n",
       " (0.058325588824099654, 'Ghost World (2001)'),\n",
       " (0.05747658047827649, 'Payback (1999)')]"
      ]
     },
     "execution_count": 33,
     "metadata": {},
     "output_type": "execute_result"
    }
   ],
   "source": [
    "sorted_top_3_rec = sorted(rec, key = lambda x: x[0], reverse=True)[:3]\n",
    "sorted_top_3_rec"
   ]
  },
  {
   "cell_type": "code",
   "execution_count": 34,
   "metadata": {},
   "outputs": [
    {
     "data": {
      "text/plain": [
       "['Exit to Eden (1994)', 'Ghost World (2001)', 'Payback (1999)']"
      ]
     },
     "execution_count": 34,
     "metadata": {},
     "output_type": "execute_result"
    }
   ],
   "source": [
    "# list comprehension to get the top 5 film titles for the current user\n",
    "[x[1] for x in sorted_top_3_rec]"
   ]
  },
  {
   "cell_type": "markdown",
   "metadata": {},
   "source": [
    "---"
   ]
  },
  {
   "cell_type": "markdown",
   "metadata": {},
   "source": [
    "### Function:"
   ]
  },
  {
   "cell_type": "code",
   "execution_count": 8,
   "metadata": {},
   "outputs": [
    {
     "name": "stderr",
     "output_type": "stream",
     "text": [
      "/Users/lara/anaconda3/lib/python3.7/site-packages/fuzzywuzzy/fuzz.py:11: UserWarning: Using slow pure-python SequenceMatcher. Install python-Levenshtein to remove this warning\n",
      "  warnings.warn('Using slow pure-python SequenceMatcher. Install python-Levenshtein to remove this warning')\n"
     ]
    }
   ],
   "source": [
    "import pandas as pd\n",
    "from sklearn.decomposition import NMF\n",
    "import numpy as np\n",
    "from fuzzywuzzy import process\n",
    "import pickle"
   ]
  },
  {
   "cell_type": "code",
   "execution_count": 11,
   "metadata": {},
   "outputs": [],
   "source": [
    "def get_NMF_recommendations(title1, title2, title3, rat1, rat2, rat3):\n",
    "    \n",
    "    \"\"\" Function that outputs 3 movie recommendations based on the user input \n",
    "    of 3 films that they have watched and the user's rating of these films\"\"\"\n",
    "    \n",
    "    # load df containing the movie names \n",
    "    df = pd.read_csv('./data/ml-latest-small/dev_ds_ratings_names_uniqueids.csv')\n",
    "    \n",
    "    # load pretrained model from disk\n",
    "    m = pickle.load(open('NMF_model.sav', 'rb'))\n",
    "    \n",
    "    # construct title dict \n",
    "    title_dict = dict(zip(df.title, df.movieId_unique))\n",
    "    \n",
    "    # get title list\n",
    "    title_list = df['title'].to_list()\n",
    "\n",
    "    # USER INPUT PROCESSING:\n",
    "    choices = []\n",
    "    for title_fuzz in [title1, title2, title3]:\n",
    "        selection = process.extractOne(title_fuzz, title_list)\n",
    "        choices.append(selection[0])\n",
    "    \n",
    "    keys = [title_dict.get(key) for key in choices]\n",
    "    \n",
    "    # create ratings dict\n",
    "    d_fill = dict(zip(keys, [rat1, rat2, rat3]))\n",
    "    \n",
    "    # create dictionary for user\n",
    "    dict_new_user = dict.fromkeys(df.movieId_unique,0)\n",
    "    dict_new_user.update(d_fill)\n",
    "    \n",
    "    # transform into an array/ vector of the values and reshape\n",
    "    user_arr = (np.array(list(dict_new_user.values()))).reshape(1,9719)\n",
    "        \n",
    "    #generate user_profile via nmf.transform(user_array)\n",
    "    user_P = m.transform(user_arr)\n",
    "    \n",
    "    \n",
    "    # PREDICTION:\n",
    "    Q = m.components_\n",
    "    #constract ratings matrix for this user\n",
    "    # np.dot(user_profile, nmf.components_)\n",
    "    user_R = (np.dot(user_P,Q))[0]\n",
    "    \n",
    "    # zip into tuples of rating and film title \n",
    "    # remove the first three ones (the films that the user has already seen):\n",
    "    recs = list(zip(user_R,df.title.values))\n",
    "    \n",
    "    # remove the first three ones (the films that the user has already seen):\n",
    "    rec = (list(zip(user_R,df.title.values)))[3:]\n",
    "    \n",
    "    # sort by rating\n",
    "    sorted_top_3_rec = sorted(rec, key = lambda x: x[0], reverse=True)[:3]\n",
    "\n",
    "    # return only movie names of the tuples\n",
    "    return [x[1] for x in sorted_top_3_rec]"
   ]
  },
  {
   "cell_type": "code",
   "execution_count": 12,
   "metadata": {},
   "outputs": [],
   "source": [
    "result = get_NMF_recommendations('Titanic', 'Toy Story', 'Star Wars', 3, 4, 5)"
   ]
  },
  {
   "cell_type": "code",
   "execution_count": 13,
   "metadata": {},
   "outputs": [
    {
     "data": {
      "text/plain": [
       "['Payback (1999)', 'Exit to Eden (1994)', 'The Drop (2014)']"
      ]
     },
     "execution_count": 13,
     "metadata": {},
     "output_type": "execute_result"
    }
   ],
   "source": [
    "result"
   ]
  },
  {
   "cell_type": "markdown",
   "metadata": {},
   "source": [
    "---"
   ]
  }
 ],
 "metadata": {
  "kernelspec": {
   "display_name": "Python 3",
   "language": "python",
   "name": "python3"
  },
  "language_info": {
   "codemirror_mode": {
    "name": "ipython",
    "version": 3
   },
   "file_extension": ".py",
   "mimetype": "text/x-python",
   "name": "python",
   "nbconvert_exporter": "python",
   "pygments_lexer": "ipython3",
   "version": "3.7.6"
  }
 },
 "nbformat": 4,
 "nbformat_minor": 4
}
