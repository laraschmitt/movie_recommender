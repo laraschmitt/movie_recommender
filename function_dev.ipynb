{
 "cells": [
  {
   "cell_type": "code",
   "execution_count": 1,
   "metadata": {},
   "outputs": [],
   "source": [
    "    # YOUR JOB is to take the user input and pass it into a function that does the recommendation\n",
    "\n",
    "    # 1. Train the model (or we read in a pre-trained model)\n",
    "    # 2. Process the input (e.g. convert everything to numbers, movie titles -> column numbers)\n",
    "    # 3. Make the user input into an array of length len(df.columns)\n",
    "    # 4. user_profile = nmf.transform(user_array)\n",
    "    # 5. result = np.dot(user_profile, nmf.components_)\n",
    "    # 6. Sort array, map the top 3 values to Movies.\n",
    "    # 7. Return final movies\n",
    "\n",
    "    # BONUS: INSERT new user data into database.\n",
    "\n",
    "    # results = ml_model.nmf(movie_titles, ratings)"
   ]
  },
  {
   "cell_type": "code",
   "execution_count": null,
   "metadata": {},
   "outputs": [],
   "source": []
  }
 ],
 "metadata": {
  "kernelspec": {
   "display_name": "Python 3",
   "language": "python",
   "name": "python3"
  },
  "language_info": {
   "codemirror_mode": {
    "name": "ipython",
    "version": 3
   },
   "file_extension": ".py",
   "mimetype": "text/x-python",
   "name": "python",
   "nbconvert_exporter": "python",
   "pygments_lexer": "ipython3",
   "version": "3.7.6"
  }
 },
 "nbformat": 4,
 "nbformat_minor": 4
}
